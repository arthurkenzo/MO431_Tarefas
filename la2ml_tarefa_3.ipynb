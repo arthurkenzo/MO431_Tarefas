{
 "cells": [
  {
   "cell_type": "code",
   "execution_count": 1,
   "metadata": {},
   "outputs": [],
   "source": [
    "#TODO\n",
    "# - fazer analise com funções quadraticas simples\n",
    "# - fazer analise com funções quadraticas criadas aleatoriamente\n",
    "#     - criar função para gerar quadraticas convexas e nao convexas aleatoriamente (strongly convex é facil)\n",
    "# - fazer calculo do gradiente da softmax\n",
    "# - "
   ]
  },
  {
   "cell_type": "markdown",
   "metadata": {},
   "source": [
    "# Bibliotecas a serem usados no projeto"
   ]
  },
  {
   "cell_type": "code",
   "execution_count": 2,
   "metadata": {},
   "outputs": [],
   "source": [
    "import tensorflow as tf\n",
    "import numpy as np\n",
    "import matplotlib.pyplot as plt "
   ]
  },
  {
   "cell_type": "markdown",
   "metadata": {},
   "source": [
    "# Parte 1: gradiente descendente em funções quadráticas"
   ]
  },
  {
   "cell_type": "markdown",
   "metadata": {},
   "source": [
    "Ao implementar um algoritmo de descida de gradiente, podemos escolher dentre diversos métodos para escolha do tamanho do passo a ser dado. Aqui, exploraremos dois deles: short-step e busca em linha exata."
   ]
  },
  {
   "cell_type": "markdown",
   "metadata": {},
   "source": [
    "## Preparação das funções quadráticas"
   ]
  },
  {
   "cell_type": "markdown",
   "metadata": {},
   "source": [
    "Sabemos que para funções diferenciáveis, uma possível definição de convexidade forte é se a função pode ser cotada inferiormente por uma quadrática de coefficiente $m>0$. Em outras palavras, temos:\n",
    "\n",
    "$$f(y) \\geq f(x)+\\nabla f(x)^T(y-x)+\\frac{m}{2}\\|y-x\\|^2 \\hspace{10pt} \\forall x,y \\in \\text{Dom}(f)$$\n",
    "\n",
    "Além disso, se a função é duplamente continuamente diferenciável - o que seria o caso neste exercício, já que lidamos apenas com quadráticas - uma outra maneira de caracterizar convexidade forte é pela propriedade\n",
    "\n",
    "$$ \\nabla^2 f(x) \\succeq mI  \\implies Q - mI \\succeq 0. $$\n",
    "\n",
    "Logo, teremos que definir $Q$ de tal modo que possua paenas autovalores positivos para os casos fortemente convexos, e pelo menos um autovalor nulo para o caso convexo. A função não convexa por sua vez possuirá pelo menos um autovalor negativo."
   ]
  },
  {
   "cell_type": "code",
   "execution_count": 3,
   "metadata": {},
   "outputs": [],
   "source": [
    "def BuildQuadratic(n:int=2, convexity:str='stronglyConvex', seed:int=0):\n",
    "\n",
    "    Q = np.zeros((n,n))\n",
    "    b = np.zeros(n)\n",
    "\n",
    "\n",
    "\n",
    "    match convexity:\n",
    "        case 'stronglyConvex':\n",
    "            pass\n",
    "        case 'convex':\n",
    "            pass\n",
    "        case 'nonConvex':\n",
    "            pass\n",
    "\n",
    "\n",
    "def StronglyConvexQuadratic(x:np.array):\n",
    "\n",
    "    Q = np.array([[2, 1],[1, 3]])\n",
    "    Q = Q.T @ Q\n",
    "\n",
    "    b = np.array([0,0])\n",
    "\n",
    "    c = 0\n",
    "\n",
    "    return x.T @ Q @ x + b.T @ x + c\n",
    "\n",
    "def ConvexQuadratic(x:np.array):\n",
    "\n",
    "    Q = np.array([[2, 1],[8, 4]])\n",
    "\n",
    "    b = np.array([0,0])\n",
    "\n",
    "    c = 0\n",
    "\n",
    "    return x.T @ Q @ x + b.T @ x + c\n",
    "\n",
    "def NonConvexQuadratic(x:np.array):\n",
    "\n",
    "    Q = np.array([[2, 1],[8, 4]])\n",
    "\n",
    "    b = np.array([0,0])\n",
    "\n",
    "    c = 0\n",
    "\n",
    "    return x.T @ Q @ x + b.T @ x + c\n",
    "\n",
    "def discretizedFunction(x0:np.ndarray, x1:np.ndarray, function:callable):\n",
    "    functionValues = np.zeros((x0.size, x1.size))\n",
    "    for i in range(x0.size):\n",
    "        for j in range(x1.size):\n",
    "            functionValues[j, i] = function(np.array([x0[i], x1[j]]))\n",
    "    return functionValues"
   ]
  },
  {
   "cell_type": "code",
   "execution_count": 4,
   "metadata": {},
   "outputs": [
    {
     "name": "stdout",
     "output_type": "stream",
     "text": [
      "[402.34829184   8.65170816]\n",
      "100\n",
      "200\n",
      "300\n",
      "400\n",
      "[-6.64532934e-06  1.13360157e-04] 1.1156105703479268e-07 0.0009824427248335983\n"
     ]
    }
   ],
   "source": [
    "\n",
    "# Preparando função fortemente convexa\n",
    "Q = np.array([[20, 1],[1, 3]])\n",
    "Q = Q.T @ Q\n",
    "b = np.array([0,0])\n",
    "c = 0\n",
    "\n",
    "stronglyConvex = lambda x: x.T @ Q @ x + b.T @ x + c\n",
    "stronglyConvexGradient = lambda x: Q @ x + b\n",
    "\n",
    "# Calculando constante de Lipschitz  \n",
    "eigValues, eigvectors = np.linalg.eig(Q)\n",
    "print(eigValues)\n",
    "lipschitzL = np.max(eigValues)\n",
    "stepSize = 1/lipschitzL\n",
    "\n",
    "\n",
    "# Preparando parametros para rodar gradiente descendente\n",
    "objective = stronglyConvex\n",
    "objectiveGradient = stronglyConvexGradient\n",
    "maxSteps = 1000\n",
    "iter = 1\n",
    "gradientNormStop = 1e-3\n",
    "initialPoint = np.array([1,1])\n",
    "\n",
    "# Iteração zero do algoritmo\n",
    "point = initialPoint\n",
    "gradient = objectiveGradient(point)\n",
    "gradientNorm = np.linalg.norm(gradient)\n",
    "objectiveValue = objective(point)\n",
    "\n",
    "while iter < maxSteps and gradientNorm > gradientNormStop:\n",
    "\n",
    "    point = point - stepSize*gradient\n",
    "    gradient = objectiveGradient(point)\n",
    "    gradientNorm = np.linalg.norm(gradient)\n",
    " \n",
    "    iter = iter + 1\n",
    "\n",
    "    if(iter%100 == 0):\n",
    "        print(iter)\n",
    "\n",
    "print(point, objective(point), gradientNorm)\n"
   ]
  },
  {
   "cell_type": "code",
   "execution_count": 5,
   "metadata": {},
   "outputs": [],
   "source": [
    "samples = 100\n",
    "conditionNumbers = []\n",
    "finalGradientNorms = []\n",
    "finalObjectiveValues = []\n",
    "iterations = []\n",
    "\n",
    "for q11 in range(4, 4+samples):    \n",
    "    # Preparando função fortemente convexa\n",
    "    Q = np.array([[q11, 1],[1, 3]])\n",
    "    Q = Q.T @ Q\n",
    "    b = np.array([0,0])\n",
    "    c = 0\n",
    "\n",
    "    stronglyConvex = lambda x: x.T @ Q @ x + b.T @ x + c\n",
    "    stronglyConvexGradient = lambda x: Q @ x + b\n",
    "\n",
    "    # Calculando constante de Lipschitz  \n",
    "    eigValues, eigvectors = np.linalg.eig(Q)\n",
    "    maxEig = np.max(eigValues)\n",
    "    minEig = np.min(eigValues)\n",
    "    stepSize = 1/maxEig\n",
    "\n",
    "\n",
    "    # Preparando parametros para rodar gradiente descendente\n",
    "    objective = stronglyConvex\n",
    "    objectiveGradient = stronglyConvexGradient\n",
    "    maxSteps = 100\n",
    "    iter = 1\n",
    "    gradientNormStop = 1e-3\n",
    "    initialPoint = np.array([1,1])\n",
    "\n",
    "    # Iteração zero do algoritmo\n",
    "    point = initialPoint\n",
    "    gradient = objectiveGradient(point)\n",
    "    gradientNorm = np.linalg.norm(gradient)\n",
    "    objectiveValue = objective(point)\n",
    "\n",
    "    while iter < maxSteps and gradientNorm > gradientNormStop:\n",
    "\n",
    "        point = point - stepSize*gradient\n",
    "        gradient = objectiveGradient(point)\n",
    "        gradientNorm = np.linalg.norm(gradient)\n",
    "    \n",
    "        iter = iter + 1\n",
    "\n",
    "    conditionNumbers.append(maxEig/minEig)\n",
    "    finalGradientNorms.append(gradientNorm)\n",
    "    finalObjectiveValues.append(objective(point))\n",
    "    iterations.append(iter)"
   ]
  },
  {
   "cell_type": "code",
   "execution_count": 6,
   "metadata": {},
   "outputs": [
    {
     "data": {
      "image/png": "[encoded data removed]",
      "text/plain": [
       "<Figure size 500x300 with 1 Axes>"
      ]
     },
     "metadata": {},
     "output_type": "display_data"
    }
   ],
   "source": [
    "x = range(1, samples+1)\n",
    "\n",
    "plt.figure(figsize=(5, 3))\n",
    "# plt.plot(x, conditionNumbers, label='sin(x)', color='blue', linewidth=2)\n",
    "plt.plot(conditionNumbers, finalGradientNorms, label='Final gradient norm', color='green', linewidth=2)\n",
    "plt.plot(conditionNumbers, finalObjectiveValues, label='Final objective', color='red', linewidth=2)\n",
    "plt.plot(conditionNumbers, [i/5000 for i in iterations], label='Iterations', color='blue', linewidth=2)\n",
    "\n",
    "plt.title('Comparison of Functions', fontsize=16)\n",
    "plt.xlabel('Condition number', fontsize=14)\n",
    "plt.ylabel('Y-axis Label', fontsize=14)\n",
    "plt.legend(fontsize=12)\n",
    "plt.grid(True)\n",
    "\n",
    "plt.tight_layout()\n",
    "plt.show()"
   ]
  },
  {
   "cell_type": "code",
   "execution_count": 7,
   "metadata": {},
   "outputs": [
    {
     "name": "stdout",
     "output_type": "stream",
     "text": [
      "[26, 33, 43, 56, 71, 89, 100, 100, 100, 100, 100, 100, 100, 100, 100, 100, 100, 100, 100, 100, 100, 100, 100, 100, 100, 100, 100, 100, 100, 100, 100, 100, 100, 100, 100, 100, 100, 100, 100, 100, 100, 100, 100, 100, 100, 100, 100, 100, 100, 100, 100, 100, 100, 100, 100, 100, 100, 100, 100, 100, 100, 100, 100, 100, 100, 100, 100, 100, 100, 100, 100, 100, 100, 100, 100, 100, 100, 100, 100, 100, 100, 100, 100, 100, 100, 100, 100, 100, 100, 100, 100, 100, 100, 100, 100, 100, 100, 100, 100, 100]\n"
     ]
    }
   ],
   "source": [
    "print(iterations)"
   ]
  },
  {
   "cell_type": "code",
   "execution_count": 20,
   "metadata": {},
   "outputs": [
    {
     "name": "stdout",
     "output_type": "stream",
     "text": [
      "[[4.78381278 1.01695584]\n",
      " [1.01695584 0.21618722]]\n",
      "[5.00000000e+00 2.77555756e-17]\n"
     ]
    }
   ],
   "source": [
    "def generatePSDMatrix():\n",
    "    # Step 1: Choose non-negative eigenvalues\n",
    "    eigenvalues = np.array([5, 0])  # Example: lambda1 = 1, lambda2 = 0\n",
    "    \n",
    "    # Step 2: Generate a random orthonormal eigenvector matrix\n",
    "    V = np.linalg.qr(np.random.randn(2, 2))[0]  # QR decomposition gives orthonormal matrix\n",
    "    \n",
    "    # Step 3: Compute Q = V Λ V^T\n",
    "    Q = V @ np.diag(eigenvalues) @ V.T\n",
    "    return Q\n",
    "\n",
    "Q = generatePSDMatrix()\n",
    "eigValues, eigvectors = np.linalg.eig(Q)\n",
    "print(Q)\n",
    "print(eigValues)"
   ]
  },
  {
   "cell_type": "markdown",
   "metadata": {},
   "source": [
    "## Plot e análises das funções"
   ]
  },
  {
   "cell_type": "code",
   "execution_count": 9,
   "metadata": {},
   "outputs": [
    {
     "data": {
      "image/png": "[encoded data removed]",
      "text/plain": [
       "<Figure size 400x300 with 2 Axes>"
      ]
     },
     "metadata": {},
     "output_type": "display_data"
    }
   ],
   "source": [
    "# Calculando valores das funções \n",
    "x0 = np.linspace(-2, 2, 1000)\n",
    "x1 = np.linspace(-2, 2, 1000)\n",
    "\n",
    "functionValuesQ = discretizedFunction(x0, x1, ConvexQuadratic)\n",
    "\n",
    "# Criando plot\n",
    "fig, ax1 = plt.subplots(nrows=1, ncols=1, figsize=(4, 3))\n",
    "\n",
    "# Plot da função quadrática\n",
    "contour1 = ax1.contourf(x0, x1, functionValuesQ, levels=20, cmap='viridis')\n",
    "colorBar1 = fig.colorbar(contour1, ax=ax1)\n",
    "colorBar1.set_label(label='$f_Q(x)$', fontsize=12)\n",
    "ax1.set_xlabel('$x_0$', fontsize=12)\n",
    "ax1.set_ylabel('$x_1$', fontsize=12)\n",
    "ax1.set_title('Plot de níveis da função quadrática', fontsize=12)\n",
    "ax1.axis('tight')\n",
    "\n",
    "\n",
    "plt.tight_layout()\n",
    "plt.show()"
   ]
  },
  {
   "cell_type": "markdown",
   "metadata": {},
   "source": [
    "## Gradiente descendente com busca em linha exata"
   ]
  },
  {
   "cell_type": "markdown",
   "metadata": {},
   "source": [
    "## Gradiente descendente com short-step"
   ]
  },
  {
   "cell_type": "markdown",
   "metadata": {},
   "source": [
    "# Parte 2: classificação multinomial no dataset MNIST"
   ]
  },
  {
   "cell_type": "markdown",
   "metadata": {},
   "source": [
    "## Cáculo do gradiente da função objetivo softmax"
   ]
  },
  {
   "cell_type": "markdown",
   "metadata": {},
   "source": [
    "A função custo para a regressão logística multinomial é dada por\n",
    "\n",
    "$$ J(\\theta) = -\\left[ \\sum_{i=1}^{m}\\sum_{k=1}^{K} \\delta(y^i=k) \\log \\left( \\frac{\\exp ({\\theta^k}^Tx^i)}{\\sum_{j=1}^{K}\\exp({\\theta^j}^Tx^i)} \\right) \\right], $$\n",
    "\n",
    "\n",
    "e seu gradiente por sua vez é\n",
    "\n",
    "$$ \\nabla_{\\theta^k}J(\\theta) = -\\sum_{i=1}^{m} \\left[ x^i (\\delta (y^i=k) - \\frac{\\exp ({\\theta^k}^Tx^i)}{\\sum_{j=1}^{K}\\exp({\\theta^j}^Tx^i)} ) \\right] $$ \n"
   ]
  },
  {
   "cell_type": "markdown",
   "metadata": {},
   "source": [
    "## Carregando base de dados MNIST e preparando conjuntos de treino/teste"
   ]
  },
  {
   "cell_type": "code",
   "execution_count": 10,
   "metadata": {},
   "outputs": [],
   "source": [
    "# Load the MNIST dataset\n",
    "(x_train, y_train),(x_test, y_test) = tf.keras.datasets.mnist.load_data()\n",
    "\n",
    "# Convertendo matrizes de pixels em uma lista \n",
    "x_train = np.array([array.reshape(-1) for array in x_train])\n",
    "x_test = np.array([array.reshape(-1) for array in x_test])\n",
    "\n",
    "# One-hot enconding para a classificação de cada dado\n",
    "y_train = np.eye(10, dtype=int)[y_train]\n",
    "y_test = np.eye(10, dtype=int)[y_test]\n",
    "\n",
    "\n",
    "# Normalize the images to [0, 1] range\n",
    "x_train, x_test = x_train / 255.0, x_test / 255.0"
   ]
  },
  {
   "cell_type": "code",
   "execution_count": 16,
   "metadata": {},
   "outputs": [
    {
     "name": "stdout",
     "output_type": "stream",
     "text": [
      "2\n",
      "3\n",
      "4\n",
      "5\n",
      "6\n",
      "7\n",
      "8\n",
      "9\n",
      "10\n"
     ]
    }
   ],
   "source": [
    "N = len(x_train)\n",
    "K = 10\n",
    "d = len(x_train[0])\n",
    "learningRate = 0.5\n",
    "\n",
    "points = np.random.random_sample((K, d))\n",
    "\n",
    "# Preparando parametros para rodar gradiente descendente\n",
    "maxSteps = 10\n",
    "iter = 1\n",
    "gradientNormStop = 1e-3\n",
    "\n",
    "while iter < maxSteps:\n",
    "\n",
    "    exponentials = np.zeros(K)\n",
    "    softmaxTerms = np.zeros(K)\n",
    "    gradient = np.zeros((K,d))\n",
    "    \n",
    "    for dataPointIndex in range(N):\n",
    "        \n",
    "        # Prepara o discriminante do ponto atual para cada classe do problema\n",
    "        # for categoryIndex in range(K):\n",
    "        #     normalizationCoeffs[categoryIndex] = normalizationCoeffs[categoryIndex] + points @ x_train[dataPointIndex]\n",
    "        \n",
    "        exponentials = points @ x_train[dataPointIndex]\n",
    "        \n",
    "        # Prepara termos da softmax\n",
    "        for categoryIndex in range(K):\n",
    "            softmaxTerms[categoryIndex] = np.exp(exponentials[categoryIndex]) / np.sum(exponentials)\n",
    "        pass\n",
    "        # Cálculo do gradiente\n",
    "        for categoryIndex in range(K):\n",
    "            gradient[categoryIndex] = (y_train[dataPointIndex][categoryIndex] - softmaxTerms[categoryIndex])* x_train[dataPointIndex]\n",
    "    \n",
    "        points = points + learningRate * gradient\n",
    "    \n",
    "    \n",
    "    iter = iter + 1\n",
    "    print(iter)\n",
    "\n",
    "\n"
   ]
  },
  {
   "cell_type": "code",
   "execution_count": 17,
   "metadata": {},
   "outputs": [
    {
     "name": "stdout",
     "output_type": "stream",
     "text": [
      "[-5.37658215e+23 -2.25205087e+22 -2.08803175e+23 -3.40957449e+23\n",
      " -2.73701976e+22 -1.55401041e+23 -3.29718353e+21 -6.42316887e+23\n",
      " -1.31714396e+21 -3.36452009e+21]\n"
     ]
    }
   ],
   "source": [
    "print(points @ x_train[0])\n"
   ]
  },
  {
   "cell_type": "code",
   "execution_count": null,
   "metadata": {},
   "outputs": [
    {
     "name": "stdout",
     "output_type": "stream",
     "text": [
      "<class 'numpy.ndarray'>\n",
      "(60000, 784)\n",
      "<class 'numpy.ndarray'>\n",
      "(784,)\n",
      "<class 'numpy.ndarray'>\n",
      "(60000, 10)\n",
      "<class 'numpy.ndarray'>\n",
      "(10,)\n",
      "[0 0 0 0 0 1 0 0 0 0]\n"
     ]
    }
   ],
   "source": [
    "print(type(x_train))\n",
    "print(x_train.shape)\n",
    "\n",
    "print(type(x_train[0]))\n",
    "print(x_train[0].shape)\n",
    "\n",
    "print(type(y_train))\n",
    "print(y_train.shape)\n",
    "\n",
    "print(type(y_train[0]))\n",
    "print(y_train[0].shape)\n"
   ]
  },
  {
   "cell_type": "code",
   "execution_count": null,
   "metadata": {},
   "outputs": [],
   "source": [
    "print(type(x_train))\n",
    "print(x_train.shape)\n",
    "\n",
    "print(type(x_train[0]))\n",
    "print(x_train[0].shape)"
   ]
  }
 ],
 "metadata": {
  "kernelspec": {
   "display_name": "mo431",
   "language": "python",
   "name": "mo431"
  },
  "language_info": {
   "codemirror_mode": {
    "name": "ipython",
    "version": 3
   },
   "file_extension": ".py",
   "mimetype": "text/x-python",
   "name": "python",
   "nbconvert_exporter": "python",
   "pygments_lexer": "ipython3",
   "version": "3.11.4"
  }
 },
 "nbformat": 4,
 "nbformat_minor": 2
}
