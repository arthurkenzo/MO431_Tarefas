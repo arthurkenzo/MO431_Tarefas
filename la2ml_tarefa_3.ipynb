{
 "cells": [
  {
   "cell_type": "code",
   "execution_count": null,
   "metadata": {},
   "outputs": [],
   "source": [
    "#TODO\n",
    "- fazer analise com funções quadraticas simples\n",
    "- fazer analise com funções quadraticas criadas aleatoriamente\n",
    "    - criar função para gerar quadraticas convexas e nao convexas aleatoriamente (strongly convex é facil)\n",
    "- fazer calculo do gradiente da softmax\n",
    "- "
   ]
  },
  {
   "cell_type": "markdown",
   "metadata": {},
   "source": [
    "# DataSet e bibliotecas a serem usados no projeto"
   ]
  },
  {
   "cell_type": "code",
   "execution_count": null,
   "metadata": {},
   "outputs": [],
   "source": [
    "import tensorflow as tf\n",
    "import numpy as np\n",
    "import matplotlib.pyplot as plt "
   ]
  },
  {
   "cell_type": "code",
   "execution_count": null,
   "metadata": {},
   "outputs": [],
   "source": [
    "# Load the MNIST dataset\n",
    "(mnist_train, mnist_test) = tf.keras.datasets.mnist.load_data()\n",
    "\n",
    "# Separate features and labels for training and testing\n",
    "(x_train, y_train) = mnist_train\n",
    "(x_test, y_test) = mnist_test\n",
    "\n",
    "# Normalize the images to [0, 1] range\n",
    "x_train, x_test = x_train / 255.0, x_test / 255.0"
   ]
  },
  {
   "cell_type": "markdown",
   "metadata": {},
   "source": [
    "Sabemos que para funções diferenciáveis, uma possível definição de convexidade forte é se a função pode ser cotada inferiormente por uma quadrática de coefficiente $m>0$. Em outras palavras, temos:\n",
    "\n",
    "$$f(y) \\geq f(x)+\\nabla f(x)^T(y-x)+\\frac{m}{2}\\|y-x\\|^2 \\hspace{10pt} \\forall x,y \\in \\text{Dom}(f)$$\n",
    "\n",
    "Além disso, se a função é duplamente continuamente diferenciável - o que seria o caso neste exercício, já que lidamos apenas com quadráticas - uma outra maneira de caracterizar convexidade forte é pela propriedade\n",
    "\n",
    "$$ \\nabla^2 f(x) \\succeq mI  \\implies Q - mI \\succeq 0. $$\n",
    "\n",
    "Logo, teremos que definir $Q$ de tal modo que possua paenas autovalores positivos para os casos fortemente convexos, e pelo menos um autovalor nulo para o caso convexo. A função não convexa por sua vez possuirá pelo menos um autovalor negativo."
   ]
  },
  {
   "cell_type": "code",
   "execution_count": null,
   "metadata": {},
   "outputs": [
    {
     "name": "stderr",
     "output_type": "stream",
     "text": [
      "2024-11-13 14:55:52.135595: E external/local_xla/xla/stream_executor/cuda/cuda_fft.cc:477] Unable to register cuFFT factory: Attempting to register factory for plugin cuFFT when one has already been registered\n",
      "WARNING: All log messages before absl::InitializeLog() is called are written to STDERR\n",
      "E0000 00:00:1731520552.186959   51064 cuda_dnn.cc:8310] Unable to register cuDNN factory: Attempting to register factory for plugin cuDNN when one has already been registered\n",
      "E0000 00:00:1731520552.201626   51064 cuda_blas.cc:1418] Unable to register cuBLAS factory: Attempting to register factory for plugin cuBLAS when one has already been registered\n",
      "2024-11-13 14:55:52.320227: I tensorflow/core/platform/cpu_feature_guard.cc:210] This TensorFlow binary is optimized to use available CPU instructions in performance-critical operations.\n",
      "To enable the following instructions: AVX2 FMA, in other operations, rebuild TensorFlow with the appropriate compiler flags.\n"
     ]
    },
    {
     "name": "stdout",
     "output_type": "stream",
     "text": [
      "Downloading data from https://storage.googleapis.com/tensorflow/tf-keras-datasets/mnist.npz\n",
      "\u001b[1m11490434/11490434\u001b[0m \u001b[32m━━━━━━━━━━━━━━━━━━━━\u001b[0m\u001b[37m\u001b[0m \u001b[1m1s\u001b[0m 0us/step\n"
     ]
    }
   ],
   "source": [
    "def BuildQuadratic(n:int=2, convexity:str='stronglyConvex', seed:int=0):\n",
    "\n",
    "    Q = np.zeros((n,n))\n",
    "    b = np.zeros(n)\n",
    "\n",
    "\n",
    "\n",
    "    match convexity:\n",
    "        case 'stronglyConvex':\n",
    "            pass\n",
    "        case 'convex':\n",
    "            pass\n",
    "        case 'nonConvex':\n",
    "            pass\n",
    "\n",
    "\n",
    "def StronglyConvexQuadratic(x:np.array):\n",
    "\n",
    "    Q = np.array([[2, 1],[1, 3]])\n",
    "    Q = Q.T @ Q\n",
    "\n",
    "    b = np.array([0,0])\n",
    "\n",
    "    c = 0\n",
    "\n",
    "    return x.T @ Q @ x + b.T @ x + c\n",
    "\n",
    "def ConvexQuadratic(x:np.array):\n",
    "\n",
    "    Q = np.array([[2, 1],[8, 4]])\n",
    "\n",
    "    b = np.array([0,0])\n",
    "\n",
    "    c = 0\n",
    "\n",
    "    return x.T @ Q @ x + b.T @ x + c\n",
    "\n",
    "def NonConvexQuadratic(x:np.array):\n",
    "\n",
    "    Q = np.array([[2, 1],[8, 4]])\n",
    "\n",
    "    b = np.array([0,0])\n",
    "\n",
    "    c = 0\n",
    "\n",
    "    return x.T @ Q @ x + b.T @ x + c\n",
    "\n"
   ]
  },
  {
   "cell_type": "code",
   "execution_count": null,
   "metadata": {},
   "outputs": [],
   "source": [
    "n = 2\n",
    "random_array = np.random.rand(n, n)\n",
    "\n"
   ]
  },
  {
   "cell_type": "code",
   "execution_count": null,
   "metadata": {},
   "outputs": [],
   "source": [
    "# Calculando valores das funções \n",
    "x0 = np.linspace(-2, 2, 1000)\n",
    "x1 = np.linspace(-2, 2, 1000)\n",
    "\n",
    "functionValuesQ = fQ(x0, x1)\n",
    "\n",
    "# Criando plot\n",
    "fig, (ax1, ax2) = plt.subplots(1, 2, figsize=(8, 3))\n",
    "\n",
    "# Plot da função quadrática\n",
    "contour1 = ax1.contourf(x0, x1, functionValuesQ, levels=20, cmap='viridis')\n",
    "colorBar1 = fig.colorbar(contour1, ax=ax1)\n",
    "colorBar1.set_label(label='$f_Q(x)$', fontsize=12)\n",
    "ax1.set_xlabel('$x_0$', fontsize=12)\n",
    "ax1.set_ylabel('$x_1$', fontsize=12)\n",
    "ax1.set_title('Plot de níveis da função quadrática', fontsize=12)\n",
    "ax1.axis('tight')\n",
    "\n",
    "# Plot da função de Rosenbrock\n",
    "contour2 = ax2.contourf(x0, x1, functionValuesR, levels=30, cmap='viridis')\n",
    "colorBar2 = fig.colorbar(contour2, ax=ax2)\n",
    "colorBar2.set_label(label='$f_R(x)$', fontsize=12)\n",
    "ax2.set_xlabel('$x_0$', fontsize=12)\n",
    "ax2.set_ylabel('$x_1$', fontsize=12)\n",
    "ax2.set_title('Plot de níveis da função de Rosenbrock', fontsize=12)\n",
    "ax2.axis('tight')\n",
    "\n",
    "plt.tight_layout()\n",
    "plt.show()"
   ]
  }
 ],
 "metadata": {
  "kernelspec": {
   "display_name": "mo431",
   "language": "python",
   "name": "mo431"
  },
  "language_info": {
   "codemirror_mode": {
    "name": "ipython",
    "version": 3
   },
   "file_extension": ".py",
   "mimetype": "text/x-python",
   "name": "python",
   "nbconvert_exporter": "python",
   "pygments_lexer": "ipython3",
   "version": "3.12.2"
  }
 },
 "nbformat": 4,
 "nbformat_minor": 2
}
