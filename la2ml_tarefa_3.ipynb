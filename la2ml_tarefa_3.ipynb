{
 "cells": [
  {
   "cell_type": "code",
   "execution_count": 1,
   "metadata": {},
   "outputs": [],
   "source": [
    "#TODO\n",
    "# - fazer analise com funções quadraticas simples\n",
    "# - fazer analise com funções quadraticas criadas aleatoriamente\n",
    "#     - criar função para gerar quadraticas convexas e nao convexas aleatoriamente (strongly convex é facil)\n",
    "# - fazer calculo do gradiente da softmax\n",
    "# - "
   ]
  },
  {
   "cell_type": "markdown",
   "metadata": {},
   "source": [
    "# Bibliotecas a serem usados no projeto"
   ]
  },
  {
   "cell_type": "code",
   "execution_count": 2,
   "metadata": {},
   "outputs": [
    {
     "name": "stderr",
     "output_type": "stream",
     "text": [
      "2024-11-27 17:53:18.044818: E external/local_xla/xla/stream_executor/cuda/cuda_fft.cc:477] Unable to register cuFFT factory: Attempting to register factory for plugin cuFFT when one has already been registered\n",
      "WARNING: All log messages before absl::InitializeLog() is called are written to STDERR\n",
      "E0000 00:00:1732740798.057099   97674 cuda_dnn.cc:8310] Unable to register cuDNN factory: Attempting to register factory for plugin cuDNN when one has already been registered\n",
      "E0000 00:00:1732740798.060555   97674 cuda_blas.cc:1418] Unable to register cuBLAS factory: Attempting to register factory for plugin cuBLAS when one has already been registered\n",
      "2024-11-27 17:53:18.073916: I tensorflow/core/platform/cpu_feature_guard.cc:210] This TensorFlow binary is optimized to use available CPU instructions in performance-critical operations.\n",
      "To enable the following instructions: AVX2 FMA, in other operations, rebuild TensorFlow with the appropriate compiler flags.\n"
     ]
    }
   ],
   "source": [
    "import tensorflow as tf\n",
    "import numpy as np\n",
    "import matplotlib.pyplot as plt "
   ]
  },
  {
   "cell_type": "markdown",
   "metadata": {},
   "source": [
    "# Parte 1: gradiente descendente em funções quadráticas"
   ]
  },
  {
   "cell_type": "markdown",
   "metadata": {},
   "source": [
    "Ao implementar um algoritmo de descida de gradiente, podemos escolher dentre diversos métodos para escolha do tamanho do passo a ser dado. Aqui, exploraremos dois deles: short-step e busca em linha exata."
   ]
  },
  {
   "cell_type": "markdown",
   "metadata": {},
   "source": [
    "## Preparação das funções quadráticas"
   ]
  },
  {
   "cell_type": "markdown",
   "metadata": {},
   "source": [
    "Sabemos que para funções diferenciáveis, uma possível definição de convexidade forte é se a função pode ser cotada inferiormente por uma quadrática de coefficiente $m>0$. Em outras palavras, temos:\n",
    "\n",
    "$$f(y) \\geq f(x)+\\nabla f(x)^T(y-x)+\\frac{m}{2}\\|y-x\\|^2 \\hspace{10pt} \\forall x,y \\in \\text{Dom}(f)$$\n",
    "\n",
    "Além disso, se a função é duplamente continuamente diferenciável - o que seria o caso neste exercício, já que lidamos apenas com quadráticas - uma outra maneira de caracterizar convexidade forte é pela propriedade\n",
    "\n",
    "$$ \\nabla^2 f(x) \\succeq mI  \\implies Q - mI \\succeq 0. $$\n",
    "\n",
    "Logo, teremos que definir $Q$ de tal modo que possua paenas autovalores positivos para os casos fortemente convexos, e pelo menos um autovalor nulo para o caso convexo. A função não convexa por sua vez possuirá pelo menos um autovalor negativo."
   ]
  },
  {
   "cell_type": "code",
   "execution_count": 3,
   "metadata": {},
   "outputs": [],
   "source": [
    "def BuildQuadratic(n:int=2, convexity:str='stronglyConvex', seed:int=0):\n",
    "\n",
    "    Q = np.zeros((n,n))\n",
    "    b = np.zeros(n)\n",
    "\n",
    "\n",
    "\n",
    "    match convexity:\n",
    "        case 'stronglyConvex':\n",
    "            pass\n",
    "        case 'convex':\n",
    "            pass\n",
    "        case 'nonConvex':\n",
    "            pass\n",
    "\n",
    "\n",
    "def StronglyConvexQuadratic(x:np.array):\n",
    "\n",
    "    Q = np.array([[2, 1],[1, 3]])\n",
    "    Q = Q.T @ Q\n",
    "\n",
    "    b = np.array([0,0])\n",
    "\n",
    "    c = 0\n",
    "\n",
    "    return x.T @ Q @ x + b.T @ x + c\n",
    "\n",
    "def ConvexQuadratic(x:np.array):\n",
    "\n",
    "    Q = np.array([[2, 1],[8, 4]])\n",
    "\n",
    "    b = np.array([0,0])\n",
    "\n",
    "    c = 0\n",
    "\n",
    "    return x.T @ Q @ x + b.T @ x + c\n",
    "\n",
    "def NonConvexQuadratic(x:np.array):\n",
    "\n",
    "    Q = np.array([[2, 1],[8, 4]])\n",
    "\n",
    "    b = np.array([0,0])\n",
    "\n",
    "    c = 0\n",
    "\n",
    "    return x.T @ Q @ x + b.T @ x + c\n",
    "\n",
    "def discretizedFunction(x0:np.ndarray, x1:np.ndarray, function:callable):\n",
    "    functionValues = np.zeros((x0.size, x1.size))\n",
    "    for i in range(x0.size):\n",
    "        for j in range(x1.size):\n",
    "            functionValues[j, i] = function(np.array([x0[i], x1[j]]))\n",
    "    return functionValues"
   ]
  },
  {
   "cell_type": "code",
   "execution_count": 4,
   "metadata": {},
   "outputs": [
    {
     "name": "stdout",
     "output_type": "stream",
     "text": [
      "[402.34829184   8.65170816]\n",
      "100\n",
      "200\n",
      "300\n",
      "400\n",
      "[-6.64532934e-06  1.13360157e-04] 1.1156105703479268e-07 0.0009824427248335983\n"
     ]
    }
   ],
   "source": [
    "\n",
    "# Preparando função fortemente convexa\n",
    "Q = np.array([[20, 1],[1, 3]])\n",
    "Q = Q.T @ Q\n",
    "b = np.array([0,0])\n",
    "c = 0\n",
    "\n",
    "stronglyConvex = lambda x: x.T @ Q @ x + b.T @ x + c\n",
    "stronglyConvexGradient = lambda x: Q @ x + b\n",
    "\n",
    "# Calculando constante de Lipschitz  \n",
    "eigValues, eigvectors = np.linalg.eig(Q)\n",
    "print(eigValues)\n",
    "lipschitzL = np.max(eigValues)\n",
    "stepSize = 1/lipschitzL\n",
    "\n",
    "\n",
    "# Preparando parametros para rodar gradiente descendente\n",
    "objective = stronglyConvex\n",
    "objectiveGradient = stronglyConvexGradient\n",
    "maxSteps = 1000\n",
    "iter = 1\n",
    "gradientNormStop = 1e-3\n",
    "initialPoint = np.array([1,1])\n",
    "\n",
    "# Iteração zero do algoritmo\n",
    "point = initialPoint\n",
    "gradient = objectiveGradient(point)\n",
    "gradientNorm = np.linalg.norm(gradient)\n",
    "objectiveValue = objective(point)\n",
    "\n",
    "while iter < maxSteps and gradientNorm > gradientNormStop:\n",
    "\n",
    "    point = point - stepSize*gradient\n",
    "    gradient = objectiveGradient(point)\n",
    "    gradientNorm = np.linalg.norm(gradient)\n",
    " \n",
    "    iter = iter + 1\n",
    "\n",
    "    if(iter%100 == 0):\n",
    "        print(iter)\n",
    "\n",
    "print(point, objective(point), gradientNorm)\n"
   ]
  },
  {
   "cell_type": "code",
   "execution_count": 7,
   "metadata": {},
   "outputs": [],
   "source": [
    "samples = 100\n",
    "conditionNumbers = []\n",
    "finalGradientNorms = []\n",
    "finalObjectiveValues = []\n",
    "\n",
    "for q11 in range(1, samples+1):    \n",
    "    # Preparando função fortemente convexa\n",
    "    Q = np.array([[q11, 1],[1, 3]])\n",
    "    Q = Q.T @ Q\n",
    "    b = np.array([0,0])\n",
    "    c = 0\n",
    "\n",
    "    stronglyConvex = lambda x: x.T @ Q @ x + b.T @ x + c\n",
    "    stronglyConvexGradient = lambda x: Q @ x + b\n",
    "\n",
    "    # Calculando constante de Lipschitz  \n",
    "    eigValues, eigvectors = np.linalg.eig(Q)\n",
    "    maxEig = np.max(eigValues)\n",
    "    minEig = np.min(eigValues)\n",
    "    stepSize = 1/maxEig\n",
    "\n",
    "\n",
    "    # Preparando parametros para rodar gradiente descendente\n",
    "    objective = stronglyConvex\n",
    "    objectiveGradient = stronglyConvexGradient\n",
    "    maxSteps = 1000\n",
    "    iter = 1\n",
    "    gradientNormStop = 1e-3\n",
    "    initialPoint = np.array([1,1])\n",
    "\n",
    "    # Iteração zero do algoritmo\n",
    "    point = initialPoint\n",
    "    gradient = objectiveGradient(point)\n",
    "    gradientNorm = np.linalg.norm(gradient)\n",
    "    objectiveValue = objective(point)\n",
    "\n",
    "    while iter < maxSteps and gradientNorm > gradientNormStop:\n",
    "\n",
    "        point = point - stepSize*gradient\n",
    "        gradient = objectiveGradient(point)\n",
    "        gradientNorm = np.linalg.norm(gradient)\n",
    "    \n",
    "        iter = iter + 1\n",
    "\n",
    "    conditionNumbers.append(maxEig/minEig)\n",
    "    finalGradientNorms.append(gradientNorm)\n",
    "    finalObjectiveValues.append(objective(point))"
   ]
  },
  {
   "cell_type": "code",
   "execution_count": 16,
   "metadata": {},
   "outputs": [
    {
     "data": {
      "image/png": "[encoded data removed]",
      "text/plain": [
       "<Figure size 500x300 with 1 Axes>"
      ]
     },
     "metadata": {},
     "output_type": "display_data"
    }
   ],
   "source": [
    "x = range(1, samples+1)\n",
    "\n",
    "plt.figure(figsize=(5, 3))\n",
    "# plt.plot(x, conditionNumbers, label='sin(x)', color='blue', linewidth=2)\n",
    "plt.plot(conditionNumbers, finalGradientNorms, label='cos(x)', color='green', linewidth=2)\n",
    "plt.plot(conditionNumbers, finalObjectiveValues, label='damped sin(2x)', color='red', linewidth=2)\n",
    "\n",
    "plt.title('Comparison of Functions', fontsize=16)\n",
    "plt.xlabel('X-axis Label', fontsize=14)\n",
    "plt.ylabel('Y-axis Label', fontsize=14)\n",
    "plt.legend(fontsize=12)\n",
    "plt.grid(True)\n",
    "\n",
    "plt.tight_layout()\n",
    "plt.show()"
   ]
  },
  {
   "cell_type": "markdown",
   "metadata": {},
   "source": [
    "## Plot e análises das funções"
   ]
  },
  {
   "cell_type": "code",
   "execution_count": 19,
   "metadata": {},
   "outputs": [
    {
     "data": {
      "image/png": "[encoded data removed]",
      "text/plain": [
       "<Figure size 400x300 with 2 Axes>"
      ]
     },
     "metadata": {},
     "output_type": "display_data"
    }
   ],
   "source": [
    "# Calculando valores das funções \n",
    "x0 = np.linspace(-2, 2, 1000)\n",
    "x1 = np.linspace(-2, 2, 1000)\n",
    "\n",
    "functionValuesQ = discretizedFunction(x0, x1, ConvexQuadratic)\n",
    "\n",
    "# Criando plot\n",
    "fig, ax1 = plt.subplots(nrows=1, ncols=1, figsize=(4, 3))\n",
    "\n",
    "# Plot da função quadrática\n",
    "contour1 = ax1.contourf(x0, x1, functionValuesQ, levels=20, cmap='viridis')\n",
    "colorBar1 = fig.colorbar(contour1, ax=ax1)\n",
    "colorBar1.set_label(label='$f_Q(x)$', fontsize=12)\n",
    "ax1.set_xlabel('$x_0$', fontsize=12)\n",
    "ax1.set_ylabel('$x_1$', fontsize=12)\n",
    "ax1.set_title('Plot de níveis da função quadrática', fontsize=12)\n",
    "ax1.axis('tight')\n",
    "\n",
    "\n",
    "plt.tight_layout()\n",
    "plt.show()"
   ]
  },
  {
   "cell_type": "markdown",
   "metadata": {},
   "source": [
    "## Gradiente descendente com busca em linha exata"
   ]
  },
  {
   "cell_type": "markdown",
   "metadata": {},
   "source": [
    "## Gradiente descendente com short-step"
   ]
  },
  {
   "cell_type": "markdown",
   "metadata": {},
   "source": [
    "# Parte 2: classificação multinomial no dataset MNIST"
   ]
  },
  {
   "cell_type": "markdown",
   "metadata": {},
   "source": [
    "## Cáculo do gradiente da função objetivo da softmax regression"
   ]
  },
  {
   "cell_type": "markdown",
   "metadata": {},
   "source": [
    "A função custo para a regressão logística multinomial é dada por\n",
    "\n",
    "$$ J(\\theta) = -\\left[ \\sum_{i=1}^{m}\\sum_{k=1}^{K} \\delta(y^i=k) \\log \\left( \\frac{\\exp ({\\theta^k}^Tx^i)}{\\sum_{j=1}^{K}\\exp({\\theta^j}^Tx^i)} \\right) \\right], $$\n",
    "\n",
    "\n",
    "e seu gradiente por sua vez é\n",
    "\n",
    "$$ \\nabla_{\\theta^k}J(\\theta) = -\\sum_{i=1}^{m} \\left[ x^i (\\delta (y^i=k) - \\frac{\\exp ({\\theta^k}^Tx^i)}{\\sum_{j=1}^{K}\\exp({\\theta^j}^Tx^i)} ) \\right] $$ \n"
   ]
  },
  {
   "cell_type": "markdown",
   "metadata": {},
   "source": [
    "## Carregando base de dados MNIST e preparando conjuntos de treino/teste"
   ]
  },
  {
   "cell_type": "code",
   "execution_count": null,
   "metadata": {},
   "outputs": [],
   "source": [
    "# Load the MNIST dataset\n",
    "(mnist_train, mnist_test) = tf.keras.datasets.mnist.load_data()\n",
    "\n",
    "# Separate features and labels for training and testing\n",
    "(x_train, y_train) = mnist_train\n",
    "(x_test, y_test) = mnist_test\n",
    "\n",
    "# Normalize the images to [0, 1] range\n",
    "x_train, x_test = x_train / 255.0, x_test / 255.0"
   ]
  }
 ],
 "metadata": {
  "kernelspec": {
   "display_name": "mo431",
   "language": "python",
   "name": "mo431"
  },
  "language_info": {
   "codemirror_mode": {
    "name": "ipython",
    "version": 3
   },
   "file_extension": ".py",
   "mimetype": "text/x-python",
   "name": "python",
   "nbconvert_exporter": "python",
   "pygments_lexer": "ipython3",
   "version": "3.12.2"
  }
 },
 "nbformat": 4,
 "nbformat_minor": 2
}
