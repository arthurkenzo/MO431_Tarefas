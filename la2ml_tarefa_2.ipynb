{
 "cells": [
  {
   "cell_type": "markdown",
   "metadata": {},
   "source": [
    "# DataSet e bibliotecas a serem usados no projeto"
   ]
  },
  {
   "cell_type": "code",
   "execution_count": 546,
   "metadata": {},
   "outputs": [
    {
     "name": "stdout",
     "output_type": "stream",
     "text": [
      "total elements:  400000\n",
      "   userId  movieId  rating  timeStamp\n",
      "0     196      242       3  881250949\n",
      "1     186      302       3  891717742\n",
      "2      22      377       1  878887116\n",
      "3     244       51       2  880606923\n",
      "4     166      346       1  886397596 \n",
      " new df size:  (943, 1682)\n"
     ]
    }
   ],
   "source": [
    "import pandas as pd\n",
    "import jax.numpy as jnp\n",
    "import numpy as np\n",
    "import jax as jax\n",
    "from typing import Callable\n",
    "from sklearn.model_selection import train_test_split\n",
    "import time\n",
    "import timeit\n",
    "import matplotlib.pyplot as plt\n",
    "\n",
    "# user id | item id | rating | timestamp.\n",
    "_df = pd.read_csv('ml-100k/u.data', delimiter='\\t', header=None, names=['userId', 'movieId', 'rating', 'timeStamp'])\n",
    "originalData = _df.pivot(index='userId', columns='movieId', values='rating')\n",
    "print(\"total elements: \", _df.count().sum())\n",
    "print(_df.head(), \"\\n\", \"new df size: \", originalData.shape)\n"
   ]
  },
  {
   "cell_type": "markdown",
   "metadata": {},
   "source": [
    "### Separação de dados de teste\n",
    "\n",
    "De acordo com a documentação, os dados já estão ordenados de maneira aleatória, então podemos apenas pegar os primeiros 20% de entradas."
   ]
  },
  {
   "cell_type": "code",
   "execution_count": 547,
   "metadata": {},
   "outputs": [],
   "source": [
    "testData = _df[:int(0.2*len(_df))]\n",
    "_df = _df[int(0.2*len(_df)):]"
   ]
  },
  {
   "cell_type": "markdown",
   "metadata": {},
   "source": [
    "# Tratamento dos dados: transposição em matriz, preenchimento de dados faltantes, normalização"
   ]
  },
  {
   "cell_type": "code",
   "execution_count": 548,
   "metadata": {},
   "outputs": [
    {
     "name": "stdout",
     "output_type": "stream",
     "text": [
      "Novo formato do DataFrame de treino:  (943, 1682) non zero elements:  80000 \n",
      "\n",
      "Novo formato do DataFrame de teste:  (943, 1682) non zero elements:  20000 \n",
      "\n"
     ]
    }
   ],
   "source": [
    "# Convertendo a lista de dados em uma tabela com usuários nas linhas, filmes nas colunas, contendo os ratings correspondentes.\n",
    "trainData = _df.pivot(index='userId', columns='movieId', values='rating')\n",
    "testData = testData.pivot(index='userId', columns='movieId', values='rating')\n",
    "\n",
    "# Reindexando os dataframes separados para incluuir todos os userIds e movieIds do dataframe original\n",
    "userIds = [_ for _ in range(1, 944)]\n",
    "movieIds = [_ for _ in range(1, 1683)]\n",
    "\n",
    "trainData = trainData.reindex(index=userIds, columns=movieIds)\n",
    "testData = testData.reindex(index=userIds, columns=movieIds)\n",
    "\n",
    "# Preenchendo valores faltantes com o rating médio do filme correspondente\n",
    "# trainData = trainData.apply(\n",
    "#     lambda x: x.fillna(0) if x.isna().all() else x.fillna(x.mean(numeric_only=True)), axis=0)\n",
    "trainData = trainData.fillna(0)\n",
    "testData = testData.fillna(0)\n",
    "\n",
    "trainData = jnp.array(trainData.values)\n",
    "testData = jnp.array(testData.values)\n",
    "\n",
    "print(\"Novo formato do DataFrame de treino: \", trainData.shape, \"non zero elements: \", jnp.count_nonzero(trainData), '\\n')\n",
    "print(\"Novo formato do DataFrame de teste: \", testData.shape, \"non zero elements: \", jnp.count_nonzero(testData), '\\n')"
   ]
  },
  {
   "cell_type": "code",
   "execution_count": 504,
   "metadata": {},
   "outputs": [],
   "source": [
    "def normalizeData(data:jnp.ndarray) -> tuple[jnp.ndarray, jnp.ndarray]:\n",
    "    \"\"\"\n",
    "    Normaliza dados de um array subtraindo médias normalizando em relação ao desvio padrão \n",
    "    de cada feature.\n",
    "\n",
    "    Args:\n",
    "        data (jnp.ndarray): Dados não normalizdos\n",
    "        \n",
    "    Returns:\n",
    "        tuple[jnp.ndarray, jnp.ndarray]: Dados normalizados de treino e teste\n",
    "    \"\"\"\n",
    "\n",
    "    # Normalizando os dados: subtração da média de cada feature e mapeando para o intervalo [0,1]\n",
    "    mean = jnp.mean(data, axis=0)\n",
    "    std = jnp.std(data, axis=0) + 1e-8\n",
    "\n",
    "    data = data - mean\n",
    "    data = data / std\n",
    "    \n",
    "    return data"
   ]
  },
  {
   "cell_type": "code",
   "execution_count": 549,
   "metadata": {},
   "outputs": [],
   "source": [
    "# Normalizando os dados: subtração da média de cada feature e mapeando para o intervalo [0,1]\n",
    "# Em alguns casos std era zero, e portanto um pequena constante é adicionada aos valroes para evitar divisão por zero\n",
    "mean = jnp.mean(trainData, axis=0)\n",
    "std = jnp.std(trainData, axis=0) + 1e-8\n",
    "\n",
    "normalizedTrainData = trainData - mean\n",
    "# normalizedTrainData = normalizedTrainData / std\n",
    "\n",
    "# normalizedTestData = testData - mean\n",
    "# normalizedTestData = normalizedTestData / std\n",
    "\n",
    "# Normalizando os dados. \n",
    "# trainData = normalizeData(jnp.array(trainData.values))\n",
    "# print(testData.shape)\n"
   ]
  },
  {
   "cell_type": "markdown",
   "metadata": {},
   "source": [
    "# Definindo as funções para implementação do SVD, KNN e PCA"
   ]
  },
  {
   "cell_type": "code",
   "execution_count": 550,
   "metadata": {},
   "outputs": [],
   "source": [
    "def reorder(eigenvalues:jnp.ndarray, eigenvectors:jnp.ndarray) -> tuple[jnp.ndarray, jnp.ndarray]:\n",
    "    \"\"\" Reorders in descending order the eigenvalues and corresponding eigenvectors based on the eigenvectors values.\n",
    "\n",
    "    Args:\n",
    "        eigenvalues (jnp.ndarray): 1D array containing the eigenvalues.\n",
    "        eigenvectors (jnp.ndarray): 2D array cotaining eigenvectors as columns.\n",
    "\n",
    "    Returns:\n",
    "        tuple[jnp.ndarray, jnp.ndarray]: Reordered eigenvalues and eigenvectors.\n",
    "    \"\"\"\n",
    "    orderedIndices = jnp.argsort(eigenvalues, descending=True) \n",
    "    orderedEigenvalues = eigenvalues[orderedIndices] \n",
    "    orderedEigenvectors = eigenvectors[:, orderedIndices] \n",
    "\n",
    "    return orderedEigenvalues, orderedEigenvectors\n",
    "\n",
    "\n",
    "def svd(data:jnp.ndarray) -> tuple[jnp.ndarray, jnp.ndarray, jnp.ndarray]:\n",
    "    \"\"\" From a data matrix, return its Singular Value Decomposition (SVD) \n",
    "    computed using the eigendecomposition of the data's covariance matrix.\n",
    "\n",
    "    Args:\n",
    "        data (jnp.ndarray): Rectangular matrix\n",
    "\n",
    "    Returns:\n",
    "        tuple[jnp.ndarray, jnp.ndarray, jnp.ndarray]: SVD of the data matrix, where data = U.S.V^T\n",
    "    \"\"\"\n",
    "\n",
    "    # Computing the data matrix's right-singular vectors, as well as the singular values\n",
    "    eigenvalues, rEigenvectors = jnp.linalg.eig(data.T @ data)\n",
    "    eigenvalues, rEigenvectors = reorder(eigenvalues, rEigenvectors)\n",
    "    Vt = jnp.real(rEigenvectors.T)    \n",
    "    S = jnp.real(eigenvalues ** (1/2))\n",
    "\n",
    "    # Computing the data matrix's left-singular vectors\n",
    "    eigenvalues, lEigenvectors = jnp.linalg.eig(data @ data.T)\n",
    "    eigenvalues, lEigenvectors = reorder(eigenvalues, lEigenvectors)\n",
    "    U = jnp.real(lEigenvectors)\n",
    "\n",
    "    \n",
    "    return U, S, Vt"
   ]
  },
  {
   "cell_type": "code",
   "execution_count": 551,
   "metadata": {},
   "outputs": [],
   "source": [
    "def pca(data:jnp.ndarray, nbComponents:int, svd=True) -> jnp.ndarray:\n",
    "    \"\"\"\n",
    "    A partir de um conjunto de dados, retorna a matriz de projeção para as k componentes principais.\n",
    "\n",
    "    Args:\n",
    "        data (jnp.ndaaray): Dados para reduzir dimensionalidade.\n",
    "        nbComponents (int): Número de componentes desejadas na projeção.\n",
    "\n",
    "    Returns:\n",
    "        jnp.ndarray: Matriz de projeção.\n",
    "    \"\"\"\n",
    "\n",
    "    covarianceMatrix = (1/len(data)) * data.T @ data\n",
    "    \n",
    "    if svd:\n",
    "        # Realizando a decomposição em valores singulares. U terá vetores coluna ortogonais.  \n",
    "        # A pricípio, o ordenamento não é necessário pois svd() já retorna os valores singulares ordenados.  \n",
    "        U, S, Ut = jax.scipy.linalg.svd(covarianceMatrix) \n",
    "        projectionMatrix = U[:, :nbComponents]\n",
    "    else:\n",
    "        # Decomposição a partir de autovalores e autovetores.\n",
    "        # Aqui, o ordenamento dos autovetores baseado nos autovalores é necessário.\n",
    "        eigenvalues, eigenvectors = jnp.linalg.eig(covarianceMatrix)  \n",
    "        indices = jnp.argsort(eigenvalues, descending=True)           \n",
    "        projectionMatrix = eigenvectors[:, indices]  \n",
    "        projectionMatrix = projectionMatrix[:, :nbComponents]\n",
    "   \n",
    "\n",
    "    return projectionMatrix"
   ]
  },
  {
   "cell_type": "code",
   "execution_count": 552,
   "metadata": {},
   "outputs": [],
   "source": [
    "def knn(xTrain:jnp.ndarray, yTrain:jnp.ndarray, xTest:jnp.ndarray, k:int, metric:Callable[[jnp.ndarray, jnp.ndarray], float]) -> jnp.ndarray:\n",
    "    \"\"\" Implementa a classificação de um conjunto de dados a partir do algoritmo de K-Nearest Neighbors (KNN).\n",
    "\n",
    "    Args:\n",
    "        xTrain (jnp.ndarray): Dados de treino\n",
    "        yTrain (jnp.ndarray): Labels para os dados de treino\n",
    "        xTest (jnp.ndarray): Dados de teste\n",
    "        k (int): Número de vizinhos mais próximos usados para a classificação.\n",
    "        metric (Callable): Função que calcula distância entre dois pontos.\n",
    "\n",
    "    Returns:\n",
    "        jnp.ndarray: Array contendo as predições realizadas para o conjunto de dados de teste xTest.\n",
    "    \"\"\"\n",
    "    \n",
    "    # Implementação JAX-friendly do cálculo da matriz de distâncias para um conjunto de pontos de teste.\n",
    "    # O cálculo da matriz é feito vetorizando duas vezes a função de métrica, para calcular dois a dois\n",
    "    # as distâncias entre pontos de treino e de teste.\n",
    "    distances = jax.vmap(lambda train_point: jax.vmap(metric, in_axes=(None, 0))(train_point, xTest))(xTrain)\n",
    "\n",
    "    # Ordenando as distâncias entre pontos, e pegando os targets/labels dos k pontos mais próximos para cada ponto de treino\n",
    "    sorted_indices = jnp.argsort(distances, axis=0)\n",
    "    nearestNeighborsIndices = sorted_indices[:k, :]\n",
    "    nearestNeighbors = yTrain[nearestNeighborsIndices].astype(int)\n",
    "\n",
    "    # Contagem dos números de cada target presente na lista de vizinhos próximos e definição do target estimado para o ponto\n",
    "    # de teste baseado numa voto de maioria.\n",
    "    totalLabels = 3\n",
    "    targetCounts = jax.vmap(lambda neighbors: jnp.bincount(neighbors, minlength=totalLabels, length=3))(nearestNeighbors.T) \n",
    "    most_common_classes = jnp.argmax(targetCounts, axis=1)\n",
    "    \n",
    "    return most_common_classes"
   ]
  },
  {
   "cell_type": "code",
   "execution_count": 597,
   "metadata": {},
   "outputs": [
    {
     "name": "stdout",
     "output_type": "stream",
     "text": [
      "(943, 943) (943,) (1682, 1682)\n"
     ]
    }
   ],
   "source": [
    "nbComponents = 5\n",
    "# Realizando a decomposição em valores singulares. U terá vetores coluna ortogonais.  \n",
    "# A pricípio, o ordenamento não é necessário pois svd() já retorna os valores singulares ordenados.  \n",
    "# U, S, Vt = svd(trainData) \n",
    "U, S, Vt = jax.scipy.linalg.svd(normalizedTrainData) \n",
    "\n",
    "print(U.shape, S.shape, Vt.shape)\n",
    "\n",
    "zeroColumns = Vt.shape[0] - U.shape[0]\n",
    "zeroRows = U.shape[1]\n",
    "_zeros = jnp.zeros((zeroRows, zeroColumns))\n",
    "\n",
    "Sdiag = jnp.hstack([jnp.diag(S), _zeros])"
   ]
  },
  {
   "cell_type": "code",
   "execution_count": 598,
   "metadata": {},
   "outputs": [
    {
     "name": "stdout",
     "output_type": "stream",
     "text": [
      "(943, 5) (5, 5) (5, 1682)\n"
     ]
    },
    {
     "data": {
      "text/plain": [
       "Array([[ 2.5486565e+00,  5.6937754e-01,  5.9973741e-01, ...,\n",
       "        -8.2353456e-03,  9.4248550e-03,  1.9595688e-02],\n",
       "       [ 1.6488464e+00, -3.7914988e-01,  2.8829008e-01, ...,\n",
       "         5.4324009e-03, -5.2203778e-03, -3.6274111e-03],\n",
       "       [ 1.5708733e-01,  2.5339991e-02, -5.4700911e-02, ...,\n",
       "         1.1859557e-02, -2.8001890e-03, -4.4340994e-03],\n",
       "       ...,\n",
       "       [ 1.8385912e+00,  1.0563821e-02,  2.5117537e-01, ...,\n",
       "        -5.0323429e-03, -3.3845934e-03,  1.5271723e-03],\n",
       "       [ 6.2362760e-01,  3.0027136e-01, -1.9340703e-01, ...,\n",
       "         1.4878384e-02,  2.6372129e-03, -1.1608724e-02],\n",
       "       [ 3.2532268e+00,  1.8603065e+00,  9.0886402e-01, ...,\n",
       "        -8.5140169e-03,  2.2198109e-02,  2.7645901e-02]], dtype=float32)"
      ]
     },
     "execution_count": 598,
     "metadata": {},
     "output_type": "execute_result"
    }
   ],
   "source": [
    "UTrunk = U[:, :nbComponents]\n",
    "VtTrunk = Vt[:nbComponents, :]\n",
    "SdiagTrunk = Sdiag[:nbComponents, :nbComponents]\n",
    "\n",
    "print(UTrunk.shape, SdiagTrunk.shape, VtTrunk.shape)\n",
    "\n",
    "approximateData = UTrunk @ SdiagTrunk @ VtTrunk\n",
    "\n",
    "approximateData = approximateData + mean\n",
    "approximateData"
   ]
  },
  {
   "cell_type": "code",
   "execution_count": 599,
   "metadata": {},
   "outputs": [
    {
     "data": {
      "text/plain": [
       "Array([[5., 3., 4., ..., 0., 0., 0.],\n",
       "       [4., 0., 0., ..., 0., 0., 0.],\n",
       "       [0., 0., 0., ..., 0., 0., 0.],\n",
       "       ...,\n",
       "       [5., 0., 0., ..., 0., 0., 0.],\n",
       "       [0., 0., 0., ..., 0., 0., 0.],\n",
       "       [0., 5., 0., ..., 0., 0., 0.]], dtype=float32)"
      ]
     },
     "execution_count": 599,
     "metadata": {},
     "output_type": "execute_result"
    }
   ],
   "source": [
    "normalizedTrainData + mean"
   ]
  },
  {
   "cell_type": "code",
   "execution_count": 603,
   "metadata": {},
   "outputs": [
    {
     "name": "stdout",
     "output_type": "stream",
     "text": [
      "17226.008\n"
     ]
    },
    {
     "data": {
      "text/plain": [
       "Array([[ 0.,  0.,  0., ..., -0.,  0.,  0.],\n",
       "       [ 0., -0.,  0., ...,  0., -0., -0.],\n",
       "       [ 0.,  0., -0., ...,  0., -0., -0.],\n",
       "       ...,\n",
       "       [ 0.,  0.,  0., ..., -0., -0.,  0.],\n",
       "       [ 0.,  0., -0., ...,  0.,  0., -0.],\n",
       "       [ 0.,  0.,  0., ..., -0.,  0.,  0.]], dtype=float32)"
      ]
     },
     "execution_count": 603,
     "metadata": {},
     "output_type": "execute_result"
    }
   ],
   "source": [
    "testDataMask = jnp.where(testData != 0, 1, 0)\n",
    "filteredApproximateData = approximateData * testDataMask\n",
    "\n",
    "filteredApproximateData"
   ]
  },
  {
   "cell_type": "code",
   "execution_count": 601,
   "metadata": {},
   "outputs": [
    {
     "data": {
      "text/plain": [
       "Array(2.6862917, dtype=float32)"
      ]
     },
     "execution_count": 601,
     "metadata": {},
     "output_type": "execute_result"
    }
   ],
   "source": [
    "diff = jnp.abs(filteredApproximateData - testData)\n",
    "jnp.sum(diff)/20000"
   ]
  },
  {
   "cell_type": "code",
   "execution_count": 580,
   "metadata": {},
   "outputs": [
    {
     "name": "stdout",
     "output_type": "stream",
     "text": [
      "non zero elements:  19968 \n",
      "\n",
      "non zero elements:  20000 \n",
      "\n",
      "70718.0\n",
      "18137.268\n"
     ]
    }
   ],
   "source": [
    "print(\"non zero elements: \", jnp.count_nonzero(filteredApproximateData), '\\n')\n",
    "print(\"non zero elements: \", jnp.count_nonzero(testData), '\\n')\n",
    "\n",
    "print(testData.sum())\n",
    "print(filteredApproximateData.sum())"
   ]
  },
  {
   "cell_type": "code",
   "execution_count": 611,
   "metadata": {},
   "outputs": [],
   "source": [
    "dS = S[:-1] - S[1:]\n"
   ]
  },
  {
   "cell_type": "code",
   "execution_count": 613,
   "metadata": {},
   "outputs": [
    {
     "name": "stdout",
     "output_type": "stream",
     "text": [
      "366.80048 176.23427\n",
      "190.56621 25.467758\n",
      "165.09845 29.207016\n",
      "135.89143 5.4171295\n",
      "130.4743 13.453194\n",
      "117.02111 11.661018\n",
      "105.36009 2.0714798\n",
      "103.28861 10.310013\n",
      "92.9786 8.7643585\n",
      "84.21424 1.9773483\n",
      "82.23689 2.8237839\n",
      "79.41311 1.7454834\n",
      "77.667625 1.516304\n",
      "76.15132 0.56607056\n",
      "75.58525 1.0454102\n",
      "74.53984 1.552681\n",
      "72.98716 1.5230179\n",
      "71.46414 0.736763\n",
      "70.72738 1.2323914\n",
      "69.49499 1.3812943\n",
      "68.11369 0.96349335\n",
      "67.1502 0.5355911\n",
      "66.61461 0.11553192\n",
      "66.49908 1.0952225\n",
      "65.403854 0.2671051\n",
      "65.13675 0.38715363\n",
      "64.749596 0.7793274\n",
      "63.97027 0.576519\n",
      "63.39375 0.47681808\n",
      "62.91693 0.17673874\n",
      "62.740192 0.38425064\n",
      "62.35594 0.13376617\n",
      "62.222176 0.624424\n",
      "61.59775 0.151371\n",
      "61.44638 0.41368484\n",
      "61.032696 0.19026947\n",
      "60.842426 0.20096588\n",
      "60.64146 0.36404037\n",
      "60.27742 0.40502548\n",
      "59.872395 0.079898834\n",
      "59.792496 0.47359848\n",
      "59.318897 0.2869835\n",
      "59.031914 0.19615555\n",
      "58.83576 0.4325714\n",
      "58.403187 0.30275726\n",
      "58.10043 0.2582779\n",
      "57.84215 0.23952866\n",
      "57.602623 0.21126938\n",
      "57.391354 0.22853088\n",
      "57.162823 0.5956688\n",
      "56.567154 0.311718\n",
      "56.255436 0.037963867\n",
      "56.217472 0.30234528\n",
      "55.915127 0.26013565\n",
      "55.65499 0.05431366\n",
      "55.600677 0.21904373\n",
      "55.381634 0.26194763\n",
      "55.119686 0.29679108\n",
      "54.822895 0.3738861\n",
      "54.44901 0.2551422\n",
      "54.193867 0.35637665\n",
      "53.83749 0.18226624\n",
      "53.655224 0.08972168\n",
      "53.565502 0.04958725\n",
      "53.515915 0.2731781\n",
      "53.242737 0.1065979\n",
      "53.13614 0.30422974\n",
      "52.83191 0.16534042\n",
      "52.66657 0.19903946\n",
      "52.46753 0.14568329\n",
      "52.321846 0.4300804\n",
      "51.891766 0.14190292\n",
      "51.749863 0.20370483\n",
      "51.546158 0.08486557\n",
      "51.461292 0.21523666\n",
      "51.246056 0.29649353\n",
      "50.949562 0.038085938\n",
      "50.911476 0.15298843\n",
      "50.758488 0.18736267\n",
      "50.571125 0.06226349\n",
      "50.50886 0.25836563\n",
      "50.250496 0.14904022\n",
      "50.101456 0.3022766\n",
      "49.79918 0.032981873\n",
      "49.766197 0.22538757\n",
      "49.54081 0.2546997\n",
      "49.28611 0.16910934\n",
      "49.117 0.056362152\n",
      "49.06064 0.19102097\n",
      "48.869617 0.18513489\n",
      "48.684483 0.27277374\n",
      "48.41171 0.08094406\n",
      "48.330765 0.22131729\n",
      "48.109447 0.31197357\n",
      "47.797474 0.03440857\n",
      "47.763065 0.041736603\n",
      "47.72133 0.5002365\n",
      "47.221092 0.18039322\n",
      "47.0407 0.040218353\n",
      "47.00048 0.097579956\n"
     ]
    }
   ],
   "source": [
    "for i in range(100):\n",
    "    print(S[i], dS[i])"
   ]
  },
  {
   "cell_type": "code",
   "execution_count": 610,
   "metadata": {},
   "outputs": [
    {
     "data": {
      "text/plain": [
       "[<matplotlib.lines.Line2D at 0x7fef836a54f0>]"
      ]
     },
     "execution_count": 610,
     "metadata": {},
     "output_type": "execute_result"
    },
    {
     "data": {
      "image/png": "[encoded data removed]",
      "text/plain": [
       "<Figure size 640x480 with 1 Axes>"
      ]
     },
     "metadata": {},
     "output_type": "display_data"
    }
   ],
   "source": [
    "plt.plot(range(0, len(S)), S)\n",
    "plt.plot(range(len(dS)), dS)"
   ]
  },
  {
   "cell_type": "code",
   "execution_count": null,
   "metadata": {},
   "outputs": [],
   "source": []
  },
  {
   "cell_type": "code",
   "execution_count": null,
   "metadata": {},
   "outputs": [],
   "source": []
  },
  {
   "cell_type": "markdown",
   "metadata": {},
   "source": [
    "# Testando a implementação da decomposição em valores principais a partir dos autovalores e autovetores da matriz de covariância dos dados.\n",
    "\n",
    "Aqui geramos uma matriz aleatória, calculamos seus valores e vetores principais, e comparamos com a implementação nativa do JAX para fins de checagem de sanidade. \n",
    "\n",
    "Vemos que a matrix ortogonal de vetores principais não é a mesma obtida pela implementação do JAX, porém isso acontece somente devido a uma inversão do sinal de alguns dos vetores. Nas matrizes U e Ut, isso se traduz respectivamente em uma inversão de sinal de colunas ou linhas especificas, o que não altera as propriedades matemáticas da nossa decomposição. Portanto, a menos de desvios numéricos, temos uma implementação equivalente feita a partir dos autovetores e autovalores da matriz de dados. "
   ]
  },
  {
   "cell_type": "code",
   "execution_count": 43,
   "metadata": {},
   "outputs": [],
   "source": [
    "# Gerando os dados aleatórios para teste\n",
    "key = jax.random.PRNGKey(0)\n",
    "random_array = jax.random.uniform(key, (5, 4))\n",
    "data = random_array\n",
    "covarianceMatrix = (1/len(data)) * data.T @ data\n",
    "\n",
    "# Calculando a SVD usando dois métodos diferentes: implementação nativa e usando autovalores e autovetores\n",
    "U1, S1, Vt1 = jax.scipy.linalg.svd(covarianceMatrix) \n",
    "U2, S2, Vt2 = svd(covarianceMatrix) "
   ]
  },
  {
   "cell_type": "code",
   "execution_count": 44,
   "metadata": {},
   "outputs": [
    {
     "name": "stdout",
     "output_type": "stream",
     "text": [
      "Comparando U: \n",
      "[[-0.5625489   0.7061049  -0.26226145 -0.34084198]\n",
      " [-0.45437548 -0.49096245  0.43556333 -0.60231495]\n",
      " [-0.4274326  -0.50450015 -0.71912175  0.21364647]\n",
      " [-0.5425707   0.07649231  0.47367406  0.6894916 ]]\n",
      "[[ 0.56254894 -0.70610535  0.26226294  0.34084186]\n",
      " [ 0.4543755   0.4909616  -0.43556163  0.6023146 ]\n",
      " [ 0.42743263  0.5045007   0.71912086 -0.21364544]\n",
      " [ 0.54257077 -0.07649165 -0.4736765  -0.6894922 ]]\n",
      "\n",
      "\n",
      "Comparando Ut: \n",
      "[[-0.56254894 -0.4543754  -0.4274326  -0.5425706 ]\n",
      " [ 0.706105   -0.49096242 -0.50450003  0.07649231]\n",
      " [-0.26226142  0.43556345 -0.719122    0.47367418]\n",
      " [-0.340842   -0.60231483  0.21364635  0.6894918 ]]\n",
      "[[ 0.56254894  0.4543755   0.42743257  0.5425707 ]\n",
      " [-0.7061053   0.49096262  0.5044998  -0.07649182]\n",
      " [ 0.26226133 -0.435565    0.7191219  -0.47367254]\n",
      " [ 0.3408419   0.60231435 -0.21364391 -0.689493  ]]\n",
      "\n",
      "\n",
      "Comparando valores principais: \n",
      "[1.2094074  0.1760837  0.10692322 0.05494076]\n",
      "[1.2094078  0.17608385 0.10692321 0.05494073]\n"
     ]
    }
   ],
   "source": [
    "# Os dois arrays devem ser iguais, a menos de um sinal em cada coluna\n",
    "print(\"Comparando U: \")\n",
    "print(U1)\n",
    "print(U2)\n",
    "\n",
    "# Os dois arrays devem ser iguais, a menos de um sinal em cada linha\n",
    "print(\"\\n\\nComparando Ut: \")\n",
    "print(Vt1)\n",
    "print(Vt2)\n",
    "\n",
    "# Os valores principais devem ser exatamente iguais\n",
    "print(\"\\n\\nComparando valores principais: \")\n",
    "print(S1)\n",
    "print(S2)"
   ]
  },
  {
   "cell_type": "code",
   "execution_count": null,
   "metadata": {},
   "outputs": [],
   "source": []
  },
  {
   "cell_type": "code",
   "execution_count": null,
   "metadata": {},
   "outputs": [],
   "source": []
  },
  {
   "cell_type": "code",
   "execution_count": null,
   "metadata": {},
   "outputs": [],
   "source": []
  },
  {
   "cell_type": "code",
   "execution_count": null,
   "metadata": {},
   "outputs": [],
   "source": []
  }
 ],
 "metadata": {
  "kernelspec": {
   "display_name": "mo431",
   "language": "python",
   "name": "python3"
  },
  "language_info": {
   "codemirror_mode": {
    "name": "ipython",
    "version": 3
   },
   "file_extension": ".py",
   "mimetype": "text/x-python",
   "name": "python",
   "nbconvert_exporter": "python",
   "pygments_lexer": "ipython3",
   "version": "3.11.4"
  }
 },
 "nbformat": 4,
 "nbformat_minor": 2
}
